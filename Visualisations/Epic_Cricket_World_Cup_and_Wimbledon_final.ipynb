{
 "cells": [
  {
   "cell_type": "code",
   "execution_count": 1,
   "metadata": {},
   "outputs": [
    {
     "data": {
      "text/html": [
       "        <script type=\"text/javascript\">\n",
       "        window.PlotlyConfig = {MathJaxConfig: 'local'};\n",
       "        if (window.MathJax) {MathJax.Hub.Config({SVG: {font: \"STIX-Web\"}});}\n",
       "        if (typeof require !== 'undefined') {\n",
       "        require.undef(\"plotly\");\n",
       "        requirejs.config({\n",
       "            paths: {\n",
       "                'plotly': ['https://cdn.plot.ly/plotly-latest.min']\n",
       "            }\n",
       "        });\n",
       "        require(['plotly'], function(Plotly) {\n",
       "            window._Plotly = Plotly;\n",
       "        });\n",
       "        }\n",
       "        </script>\n",
       "        "
      ]
     },
     "metadata": {},
     "output_type": "display_data"
    }
   ],
   "source": [
    "import plotly.plotly as py\n",
    "import cufflinks as cf\n",
    "import pandas as pd\n",
    "# cf.set_config_file(offline=True)\n",
    "# py.init_notebook_mode(connected=False)\n",
    "py.sign_in('taylormadesportstats', 'efG85EX1e9FvVJk70Oqt')"
   ]
  },
  {
   "cell_type": "code",
   "execution_count": 2,
   "metadata": {},
   "outputs": [
    {
     "data": {
      "text/html": [
       "<div>\n",
       "<style scoped>\n",
       "    .dataframe tbody tr th:only-of-type {\n",
       "        vertical-align: middle;\n",
       "    }\n",
       "\n",
       "    .dataframe tbody tr th {\n",
       "        vertical-align: top;\n",
       "    }\n",
       "\n",
       "    .dataframe thead th {\n",
       "        text-align: right;\n",
       "    }\n",
       "</style>\n",
       "<table border=\"1\" class=\"dataframe\">\n",
       "  <thead>\n",
       "    <tr style=\"text-align: right;\">\n",
       "      <th></th>\n",
       "      <th>Time</th>\n",
       "      <th>Event</th>\n",
       "      <th>Description</th>\n",
       "      <th>y</th>\n",
       "    </tr>\n",
       "  </thead>\n",
       "  <tbody>\n",
       "    <tr>\n",
       "      <th>0</th>\n",
       "      <td>2019-07-14 10:15:00</td>\n",
       "      <td>Cricket World Cup final</td>\n",
       "      <td>10:15 - New Zealand win the toss and choose to...</td>\n",
       "      <td>0.03</td>\n",
       "    </tr>\n",
       "    <tr>\n",
       "      <th>1</th>\n",
       "      <td>2019-07-14 10:45:00</td>\n",
       "      <td>Cricket World Cup final</td>\n",
       "      <td>10:45 - Cricket World Cup Final begins</td>\n",
       "      <td>0.03</td>\n",
       "    </tr>\n",
       "    <tr>\n",
       "      <th>2</th>\n",
       "      <td>2019-07-14 14:10:00</td>\n",
       "      <td>Wimbledon Tennis final</td>\n",
       "      <td>14:10 - Wimbledon Final begins</td>\n",
       "      <td>-0.03</td>\n",
       "    </tr>\n",
       "    <tr>\n",
       "      <th>3</th>\n",
       "      <td>2019-07-14 14:42:00</td>\n",
       "      <td>Cricket World Cup final</td>\n",
       "      <td>14:42 - New Zealand set England a total of 242...</td>\n",
       "      <td>0.03</td>\n",
       "    </tr>\n",
       "    <tr>\n",
       "      <th>4</th>\n",
       "      <td>2019-07-14 15:11:00</td>\n",
       "      <td>Wimbledon Tennis final</td>\n",
       "      <td>15:11 - Novak Djokiovic wins the first set tie...</td>\n",
       "      <td>-0.03</td>\n",
       "    </tr>\n",
       "  </tbody>\n",
       "</table>\n",
       "</div>"
      ],
      "text/plain": [
       "                 Time                    Event  \\\n",
       "0 2019-07-14 10:15:00  Cricket World Cup final   \n",
       "1 2019-07-14 10:45:00  Cricket World Cup final   \n",
       "2 2019-07-14 14:10:00   Wimbledon Tennis final   \n",
       "3 2019-07-14 14:42:00  Cricket World Cup final   \n",
       "4 2019-07-14 15:11:00   Wimbledon Tennis final   \n",
       "\n",
       "                                         Description     y  \n",
       "0  10:15 - New Zealand win the toss and choose to...  0.03  \n",
       "1             10:45 - Cricket World Cup Final begins  0.03  \n",
       "2                     14:10 - Wimbledon Final begins -0.03  \n",
       "3  14:42 - New Zealand set England a total of 242...  0.03  \n",
       "4  15:11 - Novak Djokiovic wins the first set tie... -0.03  "
      ]
     },
     "execution_count": 2,
     "metadata": {},
     "output_type": "execute_result"
    }
   ],
   "source": [
    "df = pd.read_csv('/Users/haroontaylor/Documents/Sports_stats/Docs/CSVs/Epic_CWC_and_Wimbledon_final_14_07_2019.csv')\n",
    "df = df.iloc[:, 0:3]\n",
    "df['Description'] = df['Time'] + ' - ' + df['Description']\n",
    "df['Time'] = pd.to_datetime(['2019-07-14 ' + time for time in df['Time']], format='%Y-%m-%d %H:%M')\n",
    "df['y'] = df['Event'].map({'C': 0.03, 'W': -0.03})\n",
    "df['Event'] = df['Event'].map({'C': 'Cricket World Cup final', 'W': 'Wimbledon Tennis final'})\n",
    "df.head()"
   ]
  },
  {
   "cell_type": "code",
   "execution_count": 4,
   "metadata": {},
   "outputs": [
    {
     "data": {
      "text/html": [
       "<iframe id=\"igraph\" scrolling=\"no\" style=\"border:none;\" seamless=\"seamless\" src=\"https://plot.ly/~taylormadesportstats/3.embed\" height=\"525px\" width=\"100%\"></iframe>"
      ],
      "text/plain": [
       "<chart_studio.tools.PlotlyDisplay object>"
      ]
     },
     "execution_count": 4,
     "metadata": {},
     "output_type": "execute_result"
    }
   ],
   "source": [
    "figure = df.iplot(x='Time', y='y', categories='Event', text='Description', asFigure=True)\n",
    "figure['layout']['yaxis'].update({'showticklabels': False, 'showgrid': False, 'zerolinecolor': '#000000', \n",
    "                                  'zerolinewidth': 2.5, 'range': [-1,1]})\n",
    "figure['layout']['xaxis']['showgrid'] = False\n",
    "figure['data'][0]['marker'].update({'symbol': 'triangle-down', 'color': '#009fda'}) \n",
    "figure['data'][1]['marker'].update({'symbol': 'triangle-up', 'color': '#007b22'})\n",
    "figure['layout'].update({'paper_bgcolor': '#F0FFFF', 'plot_bgcolor':'#F0FFFF', 'hovermode': 'closest'})\n",
    "figure['layout']['legend']['bgcolor'] = '#F0FFFF'\n",
    "figure['layout']['title']['text'] = ('Timeline of the crazy Cricket World Cup and Wimbledon Tennis ' +\n",
    "                                     'events on Sunday 14th July 2019 <br>(hover for details)')\n",
    "for scatter in figure['data']:\n",
    "    scatter['hoverinfo'] = 'text'\n",
    "py.iplot(figure, filename='Cricket_World_Cup_and_Wimbledon_finals')"
   ]
  },
  {
   "cell_type": "code",
   "execution_count": 12,
   "metadata": {},
   "outputs": [
    {
     "data": {
      "text/plain": [
       "'/Users/haroontaylor/Documents/Sports_stats/Docs/CWC_Wimbledon_final.html'"
      ]
     },
     "execution_count": 12,
     "metadata": {},
     "output_type": "execute_result"
    }
   ],
   "source": [
    "py.plot(figure, filename='/Users/haroontaylor/Documents/Sports_stats/Docs/CWC_Wimbledon_final.html')"
   ]
  },
  {
   "cell_type": "code",
   "execution_count": 8,
   "metadata": {},
   "outputs": [
    {
     "data": {
      "text/plain": [
       "Figure({\n",
       "    'data': [{'hoverinfo': 'text',\n",
       "              'marker': {'color': '#009fda',\n",
       "                         'line': {'width': 1.3},\n",
       "                         'opacity': 0.8,\n",
       "                         'size': 12,\n",
       "                         'symbol': 'triangle-down'},\n",
       "              'mode': 'markers',\n",
       "              'name': 'Cricket World Cup final',\n",
       "              'text': array(['10:15 - New Zealand win the toss and choose to bat first',\n",
       "                             '10:45 - Cricket World Cup Final begins',\n",
       "                             '14:42 - New Zealand set England a total of 242 to win',\n",
       "                             '15:37 - Jason Roy edges to the keeper after a great opening spell from Matt Henry. England 28-1',\n",
       "                             '16:18 - Joe Root is dismissed. England 59-2',\n",
       "                             '16:34 - Jonny Bairstow chops onto his own stumps. England 71-3',\n",
       "                             '16:52 - A fantastic catch in the deep by Jimmy Neesham gets rid of Eoin Morgan. England in trouble at 86-4',\n",
       "                             '18:20 - Ben Stokes and Jos Buttler put on 100 partnership to steady the ship for England',\n",
       "                             '18:26 - Buttler is caught in the deep by Tim Southee. England need 45 runs off 31 balls with 5 wickets in hand',\n",
       "                             '18:34 - Chris Woakes departs. 39 off 23 required',\n",
       "                             '18:47 - Liam Plunkett is the next man out. 22 off 9',\n",
       "                             '18:49 - Stokes seems to be caught on the boundary by Trent Boult but he steps on the rope and it’s 6! 16 off 8 required',\n",
       "                             '18:50 - Jofra Archer gets bowled first ball by Boult. 15 off 6',\n",
       "                             '18:54 - The final over. Boult bowls two dots off the first two but then gets smashed for 6 by Stokes from the third',\n",
       "                             '18:56 - Fourth ball of the final over. Martin Guptill’s throw deflects off a diving Stokes’ bat for 4 overthrows. 3 off 2',\n",
       "                             '18:57 - Penultimate delivery. Adil Rashid is run out without facing a ball but Stokes gets back on strike. 2 needed from the final delivery',\n",
       "                             '19:00 - Mark Wood is run out trying to get back for the second run. England are all out for 241 and the match is tied, meaning a super over is required',\n",
       "                             '19:12 - Buttler and Stokes set New Zealand 16 to win off the super over',\n",
       "                             '19:24 - Neesham smashes Archer for 6. New Zealand need 7 runs off 4 balls ',\n",
       "                             '19:27 - Two scrambled twos and a single later, New Zealand need 2 off the final ball to win',\n",
       "                             '19:29 - Guptill knocks it into the leg side and sets off. Roy throws it in to Buttler who dives into the bails sending them flying and running out Guptill',\n",
       "                             '19:30 - Therefore, New Zealand equal England’s score of 15 from the super over meaning England win on boundaries hit',\n",
       "                             '19:31 - I repeat, England win the first Cricket World Cup in their history after a tied game and super over on number of boundaries hit!!!'],\n",
       "                            dtype=object),\n",
       "              'textfont': {'color': '#4D5663'},\n",
       "              'type': 'scatter',\n",
       "              'uid': '17963127-9db8-4af6-a6f3-8952bcd3bdb2',\n",
       "              'x': array(['2019-07-14T10:15:00.000000000', '2019-07-14T10:45:00.000000000',\n",
       "                          '2019-07-14T14:42:00.000000000', '2019-07-14T15:37:00.000000000',\n",
       "                          '2019-07-14T16:18:00.000000000', '2019-07-14T16:34:00.000000000',\n",
       "                          '2019-07-14T16:52:00.000000000', '2019-07-14T18:20:00.000000000',\n",
       "                          '2019-07-14T18:26:00.000000000', '2019-07-14T18:34:00.000000000',\n",
       "                          '2019-07-14T18:47:00.000000000', '2019-07-14T18:49:00.000000000',\n",
       "                          '2019-07-14T18:50:00.000000000', '2019-07-14T18:54:00.000000000',\n",
       "                          '2019-07-14T18:56:00.000000000', '2019-07-14T18:57:00.000000000',\n",
       "                          '2019-07-14T19:00:00.000000000', '2019-07-14T19:12:00.000000000',\n",
       "                          '2019-07-14T19:24:00.000000000', '2019-07-14T19:27:00.000000000',\n",
       "                          '2019-07-14T19:29:00.000000000', '2019-07-14T19:30:00.000000000',\n",
       "                          '2019-07-14T19:31:00.000000000'], dtype=object),\n",
       "              'y': array([0.03, 0.03, 0.03, 0.03, 0.03, 0.03, 0.03, 0.03, 0.03, 0.03, 0.03, 0.03,\n",
       "                          0.03, 0.03, 0.03, 0.03, 0.03, 0.03, 0.03, 0.03, 0.03, 0.03, 0.03])},\n",
       "             {'hoverinfo': 'text',\n",
       "              'marker': {'color': '#007b22', 'line': {'width': 1.3}, 'opacity': 0.8, 'size': 12, 'symbol': 'triangle-up'},\n",
       "              'mode': 'markers',\n",
       "              'name': 'Wimbledon Tennis final',\n",
       "              'text': array(['14:10 - Wimbledon Final begins',\n",
       "                             '15:11 - Novak Djokiovic wins the first set tie break 7-5',\n",
       "                             '15:35 - Roger Federer races through to a 6-1 second set win',\n",
       "                             '16:27 - Djokovic wins the third set tie break 7-4',\n",
       "                             '17:09 - Federer wins the 4th set 6-4',\n",
       "                             '17:37 - Djokovic breaks to make it 4-2 in the deciding set',\n",
       "                             '17:44 - Federer breaks back immediately. 4-3 back on serve',\n",
       "                             '18:08 - Federer vs Djokovic reaches 6-6 in the final set',\n",
       "                             '18:19 - Federer breaks Djokovic to make it 7-8 and serve for the tournament',\n",
       "                             '18:21 - Federer brings up two championship points',\n",
       "                             '18:22 - Djokovic saves two championship points',\n",
       "                             '18:24 - Djokovic breaks back. 8-8',\n",
       "                             '18:51 - Federer brings up a break point at 11-11, but it’s saved by Djokovic',\n",
       "                             '18:55 - Djokovic saves yet another break point in a mammoth game at 11-11',\n",
       "                             '18:59 - Federer holds to make it 12-12 and force the first ever deciding set tie break in the Men’s Wimbledon singles',\n",
       "                             '19:09 - Djokovic seals his 5th Wimbledon by winning the tie break 7-3 in the longest final ever at 4 hours and 57 minutes'],\n",
       "                            dtype=object),\n",
       "              'textfont': {'color': '#4D5663'},\n",
       "              'type': 'scatter',\n",
       "              'uid': 'acb3d3e3-14f1-413f-a11d-4ff02a700e66',\n",
       "              'x': array(['2019-07-14T14:10:00.000000000', '2019-07-14T15:11:00.000000000',\n",
       "                          '2019-07-14T15:35:00.000000000', '2019-07-14T16:27:00.000000000',\n",
       "                          '2019-07-14T17:09:00.000000000', '2019-07-14T17:37:00.000000000',\n",
       "                          '2019-07-14T17:44:00.000000000', '2019-07-14T18:08:00.000000000',\n",
       "                          '2019-07-14T18:19:00.000000000', '2019-07-14T18:21:00.000000000',\n",
       "                          '2019-07-14T18:22:00.000000000', '2019-07-14T18:24:00.000000000',\n",
       "                          '2019-07-14T18:51:00.000000000', '2019-07-14T18:55:00.000000000',\n",
       "                          '2019-07-14T18:59:00.000000000', '2019-07-14T19:09:00.000000000'],\n",
       "                         dtype=object),\n",
       "              'y': array([-0.03, -0.03, -0.03, -0.03, -0.03, -0.03, -0.03, -0.03, -0.03, -0.03,\n",
       "                          -0.03, -0.03, -0.03, -0.03, -0.03, -0.03])}],\n",
       "    'layout': {'hovermode': 'closest',\n",
       "               'legend': {'bgcolor': '#F0FFFF', 'font': {'color': '#4D5663'}},\n",
       "               'paper_bgcolor': '#F0FFFF',\n",
       "               'plot_bgcolor': '#F0FFFF',\n",
       "               'title': {'font': {'color': '#4D5663'},\n",
       "                         'text': ('Timeline of the crazy Cricket ' ... ' July 2019 (hover for details)')},\n",
       "               'xaxis': {'gridcolor': '#E1E5ED',\n",
       "                         'showgrid': False,\n",
       "                         'tickfont': {'color': '#4D5663'},\n",
       "                         'title': {'font': {'color': '#4D5663'}, 'text': ''},\n",
       "                         'zerolinecolor': '#E1E5ED'},\n",
       "               'yaxis': {'gridcolor': '#E1E5ED',\n",
       "                         'range': [-1, 1],\n",
       "                         'showgrid': False,\n",
       "                         'showticklabels': False,\n",
       "                         'tickfont': {'color': '#4D5663'},\n",
       "                         'title': {'font': {'color': '#4D5663'}, 'text': ''},\n",
       "                         'zerolinecolor': '#000000',\n",
       "                         'zerolinewidth': 2.5}}\n",
       "})"
      ]
     },
     "execution_count": 8,
     "metadata": {},
     "output_type": "execute_result"
    }
   ],
   "source": [
    "figure"
   ]
  }
 ],
 "metadata": {
  "kernelspec": {
   "display_name": "Python 3",
   "language": "python",
   "name": "python3"
  },
  "language_info": {
   "codemirror_mode": {
    "name": "ipython",
    "version": 3
   },
   "file_extension": ".py",
   "mimetype": "text/x-python",
   "name": "python",
   "nbconvert_exporter": "python",
   "pygments_lexer": "ipython3",
   "version": "3.7.1"
  },
  "varInspector": {
   "cols": {
    "lenName": 16,
    "lenType": 16,
    "lenVar": 40
   },
   "kernels_config": {
    "python": {
     "delete_cmd_postfix": "",
     "delete_cmd_prefix": "del ",
     "library": "var_list.py",
     "varRefreshCmd": "print(var_dic_list())"
    },
    "r": {
     "delete_cmd_postfix": ") ",
     "delete_cmd_prefix": "rm(",
     "library": "var_list.r",
     "varRefreshCmd": "cat(var_dic_list()) "
    }
   },
   "types_to_exclude": [
    "module",
    "function",
    "builtin_function_or_method",
    "instance",
    "_Feature"
   ],
   "window_display": false
  }
 },
 "nbformat": 4,
 "nbformat_minor": 2
}
